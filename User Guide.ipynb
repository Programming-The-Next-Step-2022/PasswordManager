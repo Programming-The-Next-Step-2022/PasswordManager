{
 "cells": [
  {
   "cell_type": "markdown",
   "metadata": {},
   "source": [
    "# User guide"
   ]
  },
  {
   "cell_type": "markdown",
   "metadata": {},
   "source": [
    "## Running Password Manager\n",
    "\n",
    "You can run the Password Manager through the command line. A Graphical User Interface (GUI) will pop up. \n"
   ]
  },
  {
   "cell_type": "markdown",
   "metadata": {},
   "source": [
    "## Setting up master password\n",
    "\n",
    "The first time you are running the password manager, it will ask for a master password. This master password will be used to encrypt the future passwords. The user has to give the same password twice to ensure that the right masterpassword is saved. \n",
    "\n",
    "If the two passwords don't match, the user is prompted a second time for the repeated password.\n",
    "\n",
    "Next time you login, it will ask for the masterpassword. "
   ]
  },
  {
   "cell_type": "markdown",
   "metadata": {},
   "source": [
    "## Generating password\n",
    "\n",
    "To generate a password, the user is asked to give the website and username. The website could either be a url or the name of the website. A password will be generated, encrypted and saved. "
   ]
  },
  {
   "cell_type": "markdown",
   "metadata": {},
   "source": [
    "## Finding password\n",
    "\n",
    "To find a password, you can go to the search tab. The user can only search a password based on the website name. The password will be decrypted and returned to the user.  "
   ]
  },
  {
   "cell_type": "markdown",
   "metadata": {},
   "source": []
  },
  {
   "cell_type": "code",
   "execution_count": null,
   "metadata": {},
   "outputs": [],
   "source": []
  }
 ],
 "metadata": {
  "kernelspec": {
   "display_name": "Python 3",
   "language": "python",
   "name": "python3"
  },
  "language_info": {
   "codemirror_mode": {
    "name": "ipython",
    "version": 3
   },
   "file_extension": ".py",
   "mimetype": "text/x-python",
   "name": "python",
   "nbconvert_exporter": "python",
   "pygments_lexer": "ipython3",
   "version": "3.8.3"
  }
 },
 "nbformat": 4,
 "nbformat_minor": 4
}
